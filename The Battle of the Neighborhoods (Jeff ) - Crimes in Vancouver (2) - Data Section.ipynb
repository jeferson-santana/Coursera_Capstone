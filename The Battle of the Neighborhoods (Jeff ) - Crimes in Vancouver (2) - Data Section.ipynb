{
 "cells": [
  {
   "cell_type": "markdown",
   "metadata": {},
   "source": [
    "## 2. A description of the data and how it will be used to solve the problem\n",
    "\n",
    "To do our analyse we will use a open data set from Kaggle data contains Vancouver crimes rate in 2018 Considering the following information:\n",
    "\n",
    "TYPE - Crime type, @  \n",
    "YEAR - Recorded year, @  \n",
    "MONTH - Recorded month, @  \n",
    "DAY - Recorded day, @  \n",
    "HOUR - Recorded hour, @  \n",
    "MINUTE - Recorded minute, @  \n",
    "HUNDRED_BLOCK - Recorded block, @  \n",
    "NEIGHBOURHOOD - Recorded neighborhood, @  \n",
    "X- GPS longtitude, @  \n",
    "Y - GPS latitude\n",
    "\n",
    "### Data set URL: https://www.kaggle.com/agilesifaka/vancouver-crime-report/version/2"
   ]
  },
  {
   "cell_type": "code",
   "execution_count": null,
   "metadata": {},
   "outputs": [],
   "source": []
  }
 ],
 "metadata": {
  "kernelspec": {
   "display_name": "Python 3",
   "language": "python",
   "name": "python3"
  },
  "language_info": {
   "codemirror_mode": {
    "name": "ipython",
    "version": 3
   },
   "file_extension": ".py",
   "mimetype": "text/x-python",
   "name": "python",
   "nbconvert_exporter": "python",
   "pygments_lexer": "ipython3",
   "version": "3.6.10"
  }
 },
 "nbformat": 4,
 "nbformat_minor": 4
}
