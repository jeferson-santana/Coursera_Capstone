{
 "cells": [
  {
   "cell_type": "markdown",
   "metadata": {},
   "source": [
    "# The Battle of the Neighborhoods (Jeff ) - Crimes in Vancouver\n",
    "\n",
    "## 1. A description of the problem and a discussion of the background\n",
    "\n",
    "We will analyse and discuss the safiest place in Vancouver where, It would be safe for opening a new bussiness or even to live, by analysing the rate crime, and also those kinds of crimes, we will plot the map also to get know about if there is some park our beach around the place."
   ]
  },
  {
   "cell_type": "code",
   "execution_count": null,
   "metadata": {},
   "outputs": [],
   "source": []
  }
 ],
 "metadata": {
  "kernelspec": {
   "display_name": "Python 3",
   "language": "python",
   "name": "python3"
  },
  "language_info": {
   "codemirror_mode": {
    "name": "ipython",
    "version": 3
   },
   "file_extension": ".py",
   "mimetype": "text/x-python",
   "name": "python",
   "nbconvert_exporter": "python",
   "pygments_lexer": "ipython3",
   "version": "3.6.10"
  }
 },
 "nbformat": 4,
 "nbformat_minor": 4
}
